{
  "nbformat": 4,
  "nbformat_minor": 0,
  "metadata": {
    "colab": {
      "name": "StockPricePrediction_lstm.ipynb",
      "provenance": []
    },
    "kernelspec": {
      "name": "python3",
      "display_name": "Python 3"
    },
    "language_info": {
      "name": "python"
    }
  },
  "cells": [
    {
      "cell_type": "code",
      "execution_count": null,
      "metadata": {
        "id": "UgBj-WkqeSS8"
      },
      "outputs": [],
      "source": [
        "import numpy as np\n",
        "import pandas as pd\n",
        "import matplotlib.pyplot as plt"
      ]
    },
    {
      "cell_type": "code",
      "source": [
        "data = pd.read_csv('Microsoft_Stock', index_col='date' , parse_dates= True)"
      ],
      "metadata": {
        "id": "EG5QCYM8eeDR"
      },
      "execution_count": null,
      "outputs": []
    },
    {
      "cell_type": "code",
      "source": [
        "data.head()"
      ],
      "metadata": {
        "id": "8SuEvHp5emf3"
      },
      "execution_count": null,
      "outputs": []
    },
    {
      "cell_type": "code",
      "source": [
        "data.drop('2022-07-07 16:00:00', axis = 0)"
      ],
      "metadata": {
        "id": "YqvtZdy8PVZF"
      },
      "execution_count": null,
      "outputs": []
    },
    {
      "cell_type": "code",
      "source": [
        "data.info()"
      ],
      "metadata": {
        "id": "KiOEHLVhewwE"
      },
      "execution_count": null,
      "outputs": []
    },
    {
      "cell_type": "code",
      "source": [
        "data['volume'] = data['volume'].str.replace(',', '').astype(float)"
      ],
      "metadata": {
        "id": "z5itqw0hQBon"
      },
      "execution_count": null,
      "outputs": []
    },
    {
      "cell_type": "code",
      "source": [
        "data.info()"
      ],
      "metadata": {
        "id": "Umch1NYrQmzU"
      },
      "execution_count": null,
      "outputs": []
    },
    {
      "cell_type": "code",
      "source": [
        "data.isna().any()"
      ],
      "metadata": {
        "id": "XbDfcv8tQsEN"
      },
      "execution_count": null,
      "outputs": []
    },
    {
      "cell_type": "code",
      "source": [
        "X = data['open']\n",
        "y = data['close']"
      ],
      "metadata": {
        "id": "rGWs2t0XTM0r"
      },
      "execution_count": null,
      "outputs": []
    },
    {
      "cell_type": "code",
      "source": [
        "from sklearn.preprocessing import MinMaxScaler\n",
        "scaler = MinMaxScaler()\n",
        "scaled_X = scaler.fit_transform(X)\n",
        "scaled_X"
      ],
      "metadata": {
        "id": "IshvRsfrQ1gB"
      },
      "execution_count": null,
      "outputs": []
    },
    {
      "cell_type": "code",
      "source": [
        "from sklearn.model_selection import train_test_split\n",
        "X_train, X_test, y_train, y_test = train_test_split(X, y, test_size = 0.2, random_state = 42)"
      ],
      "metadata": {
        "id": "ObV1O533SsLm"
      },
      "execution_count": null,
      "outputs": []
    },
    {
      "cell_type": "code",
      "source": [
        "X_train.size\n",
        "X_train = np.array(X_train)"
      ],
      "metadata": {
        "id": "N788c7_dWtwR"
      },
      "execution_count": null,
      "outputs": []
    },
    {
      "cell_type": "code",
      "source": [
        "X_ts = []\n",
        "y_ts = []\n",
        "for i in range(60, 2015):\n",
        "\n",
        "  X_ts.append(X_train[i-60:i])\n",
        "  y_ts.append(X_train[i]) "
      ],
      "metadata": {
        "id": "n1xE8slimUcH"
      },
      "execution_count": null,
      "outputs": []
    },
    {
      "cell_type": "code",
      "source": [
        "X_ts = np.array(X_ts)\n",
        "y_ts = np.array(y_ts)"
      ],
      "metadata": {
        "id": "T-vPLDcxnawj"
      },
      "execution_count": null,
      "outputs": []
    },
    {
      "cell_type": "code",
      "source": [
        "X_ts = np.reshape(X_ts, (X_ts.shape[0], X_ts.shape[1], 1))\n"
      ],
      "metadata": {
        "id": "5WMSGTWnU2Q-"
      },
      "execution_count": null,
      "outputs": []
    },
    {
      "cell_type": "code",
      "source": [
        "import tensorflow as tf\n",
        "import sklearn"
      ],
      "metadata": {
        "id": "b9KwL8pVe4RH"
      },
      "execution_count": null,
      "outputs": []
    },
    {
      "cell_type": "code",
      "source": [
        "from tensorflow import keras\n",
        "from keras import layers\n",
        "from keras import Sequential "
      ],
      "metadata": {
        "id": "lz48RYaPiebe"
      },
      "execution_count": null,
      "outputs": []
    },
    {
      "cell_type": "code",
      "source": [
        "model = Sequential()\n",
        "model.add(layers.LSTM(units = 100, return_sequences= True, input_shape = (X_ts.shape[1], 1) ))\n",
        "model.add(layers.Dropout(0.1))\n",
        "\n",
        "model.add(layers.LSTM(units = 100, return_sequences = True))\n",
        "model.add(layers.Dropout(0.1))\n",
        "\n",
        "model.add(layers.Dense(units = 1))"
      ],
      "metadata": {
        "id": "pUn_O92Ti0AG"
      },
      "execution_count": null,
      "outputs": []
    },
    {
      "cell_type": "code",
      "source": [
        "model.summary()"
      ],
      "metadata": {
        "id": "szNaSh9KkZLg"
      },
      "execution_count": null,
      "outputs": []
    },
    {
      "cell_type": "code",
      "source": [
        "model.compile(optimizer = 'adam', loss = 'mean_squared_error')"
      ],
      "metadata": {
        "id": "5k_7TBUjkdgp"
      },
      "execution_count": null,
      "outputs": []
    },
    {
      "cell_type": "code",
      "source": [
        "model.fit(X_ts, y_ts, batch_size = 32, epochs = 100, verbose = 1)"
      ],
      "metadata": {
        "id": "t2_2Ed0Ik_dR"
      },
      "execution_count": null,
      "outputs": []
    }
  ]
}